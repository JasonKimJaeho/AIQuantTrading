{
 "cells": [
  {
   "cell_type": "markdown",
   "metadata": {},
   "source": [
    "## ETF 데이터로 주가 방향 예측하기\n",
    "\n",
    "- 랜덤 포레스트\n",
    "\n",
    "- 부스팅"
   ]
  },
  {
   "cell_type": "code",
   "execution_count": 1,
   "metadata": {},
   "outputs": [
    {
     "name": "stdout",
     "output_type": "stream",
     "text": [
      "Requirement already satisfied: xgboost in c:\\users\\jh102\\appdata\\local\\packages\\pythonsoftwarefoundation.python.3.11_qbz5n2kfra8p0\\localcache\\local-packages\\python311\\site-packages (2.0.1)\n",
      "Requirement already satisfied: numpy in c:\\users\\jh102\\appdata\\local\\packages\\pythonsoftwarefoundation.python.3.11_qbz5n2kfra8p0\\localcache\\local-packages\\python311\\site-packages (from xgboost) (1.24.2)\n",
      "Requirement already satisfied: scipy in c:\\users\\jh102\\appdata\\local\\packages\\pythonsoftwarefoundation.python.3.11_qbz5n2kfra8p0\\localcache\\local-packages\\python311\\site-packages (from xgboost) (1.10.1)\n"
     ]
    },
    {
     "name": "stderr",
     "output_type": "stream",
     "text": [
      "\n",
      "[notice] A new release of pip is available: 23.2.1 -> 23.3.1\n",
      "[notice] To update, run: C:\\Users\\jh102\\AppData\\Local\\Microsoft\\WindowsApps\\PythonSoftwareFoundation.Python.3.11_qbz5n2kfra8p0\\python.exe -m pip install --upgrade pip\n"
     ]
    }
   ],
   "source": [
    "!pip install xgboost"
   ]
  },
  {
   "cell_type": "markdown",
   "metadata": {},
   "source": [
    "### 데이터"
   ]
  },
  {
   "cell_type": "code",
   "execution_count": 2,
   "metadata": {},
   "outputs": [],
   "source": [
    "import warnings\n",
    "warnings.filterwarnings('ignore')\n",
    "import glob\n",
    "import os\n",
    "import datetime\n",
    "import matplotlib.pyplot as plt\n",
    "import pandas as pd\n",
    "import numpy as np\n",
    "\n",
    "from sklearn import preprocessing\n",
    "from sklearn.preprocessing import StandardScaler\n",
    "from sklearn.model_selection import train_test_split\n",
    "from sklearn.model_selection import cross_validate\n",
    "from sklearn.model_selection import TimeSeriesSplit\n",
    "from sklearn.model_selection import GridSearchCV\n",
    "from sklearn.linear_model import LinearRegression\n",
    "from sklearn.ensemble import RandomForestClassifier\n",
    "from xgboost import XGBClassifier\n",
    "from xgboost import plot_importance\n",
    "from sklearn.metrics import precision_score, recall_score, confusion_matrix, roc_auc_score\n",
    "from sklearn.metrics import f1_score\n",
    "from sklearn.metrics import mean_squared_error, r2_score\n",
    "from sklearn.metrics import accuracy_score\n",
    "from sklearn import svm\n",
    "\n",
    "import seaborn as sns; sns.set()"
   ]
  },
  {
   "cell_type": "code",
   "execution_count": null,
   "metadata": {},
   "outputs": [],
   "source": [
    "# SPY = pd.read_csv('./SPY.csv',parse_dates=['Dates'], index_col = 'Dates')\n",
    "# GLD = pd.read_csv('./GLD.csv',parse_dates=['Dates'], index_col = 'Dates')\n",
    "# FXY = pd.read_csv('./FXY.csv',parse_dates=['Dates'], index_col = 'Dates')\n",
    "# T10Y2Y = pd.read_csv('./T10Y2Y.csv',parse_dates=['Dates'], index_col = 'Dates')\n",
    "# TED = pd.read_csv('./TED.csv',parse_dates=['Dates'], index_col = 'Dates')\n",
    "# USO = pd.read_csv('./USO.csv',parse_dates=['Dates'], index_col = 'Dates')\n",
    "# UUP = pd.read_csv('./UUP.csv',parse_dates=['Dates'], index_col = 'Dates')\n",
    "# VIX = pd.read_csv('./VIX.csv',parse_dates=['Dates'], index_col = 'Dates')\n",
    "# VWO = pd.read_csv('./VWO.csv',parse_dates=['Dates'], index_col = 'Dates')"
   ]
  },
  {
   "cell_type": "code",
   "execution_count": null,
   "metadata": {},
   "outputs": [],
   "source": [
    "# t1 = SPY.merge(GLD, left_index=True,\n",
    "#               right_index=True, how = 'outer',\n",
    "#               suffixes=('_SPY', '_GLD'))\n",
    "# list_df = ['FXY', 'T10Y2Y', 'TED', 'USO', 'UUP', 'VIX', 'VWO']\n",
    "# for x in list_df:\n",
    "#     t1 = t1.merge(globals()[x].add_suffix('_'+str(x)),\n",
    "#                  left_index=True, right_index=True,\n",
    "#                  how='outer')"
   ]
  },
  {
   "cell_type": "code",
   "execution_count": null,
   "metadata": {},
   "outputs": [],
   "source": [
    "# df = t1.dropna()"
   ]
  },
  {
   "cell_type": "code",
   "execution_count": null,
   "metadata": {},
   "outputs": [],
   "source": [
    "# df.tail()"
   ]
  },
  {
   "cell_type": "code",
   "execution_count": null,
   "metadata": {},
   "outputs": [],
   "source": [
    "# df.head()"
   ]
  },
  {
   "cell_type": "code",
   "execution_count": 3,
   "metadata": {},
   "outputs": [
    {
     "data": {
      "text/html": [
       "<div>\n",
       "<style scoped>\n",
       "    .dataframe tbody tr th:only-of-type {\n",
       "        vertical-align: middle;\n",
       "    }\n",
       "\n",
       "    .dataframe tbody tr th {\n",
       "        vertical-align: top;\n",
       "    }\n",
       "\n",
       "    .dataframe thead th {\n",
       "        text-align: right;\n",
       "    }\n",
       "</style>\n",
       "<table border=\"1\" class=\"dataframe\">\n",
       "  <thead>\n",
       "    <tr style=\"text-align: right;\">\n",
       "      <th></th>\n",
       "      <th>Dates</th>\n",
       "      <th>CLOSE_SPY</th>\n",
       "      <th>OPEN</th>\n",
       "      <th>HIGH</th>\n",
       "      <th>LOW</th>\n",
       "      <th>VOLUME</th>\n",
       "      <th>CLOSE_GLD</th>\n",
       "      <th>CLOSE_FXY</th>\n",
       "      <th>CLOSE_T10Y2Y</th>\n",
       "      <th>CLOSE_TED</th>\n",
       "      <th>CLOSE_USO</th>\n",
       "      <th>CLOSE_UUP</th>\n",
       "      <th>CLOSE_VIX</th>\n",
       "      <th>CLOSE_VWO</th>\n",
       "    </tr>\n",
       "  </thead>\n",
       "  <tbody>\n",
       "    <tr>\n",
       "      <th>0</th>\n",
       "      <td>2007-02-20</td>\n",
       "      <td>146.04</td>\n",
       "      <td>145.56</td>\n",
       "      <td>146.200</td>\n",
       "      <td>144.0</td>\n",
       "      <td>56909500.0</td>\n",
       "      <td>65.31</td>\n",
       "      <td>83.51</td>\n",
       "      <td>2.3263</td>\n",
       "      <td>0.31</td>\n",
       "      <td>48.67</td>\n",
       "      <td>25.07</td>\n",
       "      <td>10.24</td>\n",
       "      <td>40.055</td>\n",
       "    </tr>\n",
       "    <tr>\n",
       "      <th>1</th>\n",
       "      <td>2007-02-21</td>\n",
       "      <td>145.98</td>\n",
       "      <td>145.61</td>\n",
       "      <td>146.070</td>\n",
       "      <td>145.0</td>\n",
       "      <td>63971500.0</td>\n",
       "      <td>67.28</td>\n",
       "      <td>82.90</td>\n",
       "      <td>2.3653</td>\n",
       "      <td>0.32</td>\n",
       "      <td>49.86</td>\n",
       "      <td>25.12</td>\n",
       "      <td>10.20</td>\n",
       "      <td>39.975</td>\n",
       "    </tr>\n",
       "    <tr>\n",
       "      <th>2</th>\n",
       "      <td>2007-02-22</td>\n",
       "      <td>145.87</td>\n",
       "      <td>146.05</td>\n",
       "      <td>146.420</td>\n",
       "      <td>145.0</td>\n",
       "      <td>79067398.0</td>\n",
       "      <td>67.15</td>\n",
       "      <td>82.46</td>\n",
       "      <td>2.3871</td>\n",
       "      <td>0.31</td>\n",
       "      <td>50.33</td>\n",
       "      <td>25.12</td>\n",
       "      <td>10.18</td>\n",
       "      <td>40.220</td>\n",
       "    </tr>\n",
       "    <tr>\n",
       "      <th>3</th>\n",
       "      <td>2007-02-23</td>\n",
       "      <td>145.30</td>\n",
       "      <td>145.74</td>\n",
       "      <td>145.790</td>\n",
       "      <td>145.0</td>\n",
       "      <td>71962797.0</td>\n",
       "      <td>67.72</td>\n",
       "      <td>82.78</td>\n",
       "      <td>2.3809</td>\n",
       "      <td>0.31</td>\n",
       "      <td>50.46</td>\n",
       "      <td>25.04</td>\n",
       "      <td>10.58</td>\n",
       "      <td>40.035</td>\n",
       "    </tr>\n",
       "    <tr>\n",
       "      <th>4</th>\n",
       "      <td>2007-02-26</td>\n",
       "      <td>145.17</td>\n",
       "      <td>145.83</td>\n",
       "      <td>145.950</td>\n",
       "      <td>145.0</td>\n",
       "      <td>69320062.0</td>\n",
       "      <td>68.10</td>\n",
       "      <td>83.08</td>\n",
       "      <td>2.3795</td>\n",
       "      <td>0.31</td>\n",
       "      <td>50.90</td>\n",
       "      <td>25.04</td>\n",
       "      <td>11.15</td>\n",
       "      <td>39.960</td>\n",
       "    </tr>\n",
       "    <tr>\n",
       "      <th>...</th>\n",
       "      <td>...</td>\n",
       "      <td>...</td>\n",
       "      <td>...</td>\n",
       "      <td>...</td>\n",
       "      <td>...</td>\n",
       "      <td>...</td>\n",
       "      <td>...</td>\n",
       "      <td>...</td>\n",
       "      <td>...</td>\n",
       "      <td>...</td>\n",
       "      <td>...</td>\n",
       "      <td>...</td>\n",
       "      <td>...</td>\n",
       "      <td>...</td>\n",
       "    </tr>\n",
       "    <tr>\n",
       "      <th>2766</th>\n",
       "      <td>2018-12-20</td>\n",
       "      <td>247.17</td>\n",
       "      <td>249.86</td>\n",
       "      <td>251.620</td>\n",
       "      <td>245.0</td>\n",
       "      <td>252053406.0</td>\n",
       "      <td>119.24</td>\n",
       "      <td>85.87</td>\n",
       "      <td>1.7807</td>\n",
       "      <td>0.48</td>\n",
       "      <td>9.72</td>\n",
       "      <td>25.77</td>\n",
       "      <td>28.38</td>\n",
       "      <td>38.180</td>\n",
       "    </tr>\n",
       "    <tr>\n",
       "      <th>2767</th>\n",
       "      <td>2018-12-21</td>\n",
       "      <td>240.70</td>\n",
       "      <td>246.74</td>\n",
       "      <td>249.710</td>\n",
       "      <td>240.0</td>\n",
       "      <td>255345594.0</td>\n",
       "      <td>118.72</td>\n",
       "      <td>85.87</td>\n",
       "      <td>1.7651</td>\n",
       "      <td>0.48</td>\n",
       "      <td>9.57</td>\n",
       "      <td>25.94</td>\n",
       "      <td>30.11</td>\n",
       "      <td>37.870</td>\n",
       "    </tr>\n",
       "    <tr>\n",
       "      <th>2768</th>\n",
       "      <td>2018-12-24</td>\n",
       "      <td>234.34</td>\n",
       "      <td>239.04</td>\n",
       "      <td>240.836</td>\n",
       "      <td>234.0</td>\n",
       "      <td>147311594.0</td>\n",
       "      <td>120.02</td>\n",
       "      <td>86.55</td>\n",
       "      <td>1.7505</td>\n",
       "      <td>0.40</td>\n",
       "      <td>9.29</td>\n",
       "      <td>25.55</td>\n",
       "      <td>36.07</td>\n",
       "      <td>37.320</td>\n",
       "    </tr>\n",
       "    <tr>\n",
       "      <th>2769</th>\n",
       "      <td>2018-12-27</td>\n",
       "      <td>248.07</td>\n",
       "      <td>242.57</td>\n",
       "      <td>248.290</td>\n",
       "      <td>239.0</td>\n",
       "      <td>186267297.0</td>\n",
       "      <td>120.57</td>\n",
       "      <td>86.00</td>\n",
       "      <td>1.7581</td>\n",
       "      <td>0.44</td>\n",
       "      <td>9.62</td>\n",
       "      <td>25.57</td>\n",
       "      <td>29.96</td>\n",
       "      <td>37.900</td>\n",
       "    </tr>\n",
       "    <tr>\n",
       "      <th>2770</th>\n",
       "      <td>2018-12-28</td>\n",
       "      <td>247.75</td>\n",
       "      <td>249.58</td>\n",
       "      <td>251.400</td>\n",
       "      <td>246.0</td>\n",
       "      <td>153100188.0</td>\n",
       "      <td>121.06</td>\n",
       "      <td>86.63</td>\n",
       "      <td>1.7320</td>\n",
       "      <td>0.45</td>\n",
       "      <td>9.53</td>\n",
       "      <td>25.50</td>\n",
       "      <td>28.34</td>\n",
       "      <td>38.170</td>\n",
       "    </tr>\n",
       "  </tbody>\n",
       "</table>\n",
       "<p>2771 rows × 14 columns</p>\n",
       "</div>"
      ],
      "text/plain": [
       "           Dates  CLOSE_SPY    OPEN     HIGH    LOW       VOLUME  CLOSE_GLD  \\\n",
       "0     2007-02-20     146.04  145.56  146.200  144.0   56909500.0      65.31   \n",
       "1     2007-02-21     145.98  145.61  146.070  145.0   63971500.0      67.28   \n",
       "2     2007-02-22     145.87  146.05  146.420  145.0   79067398.0      67.15   \n",
       "3     2007-02-23     145.30  145.74  145.790  145.0   71962797.0      67.72   \n",
       "4     2007-02-26     145.17  145.83  145.950  145.0   69320062.0      68.10   \n",
       "...          ...        ...     ...      ...    ...          ...        ...   \n",
       "2766  2018-12-20     247.17  249.86  251.620  245.0  252053406.0     119.24   \n",
       "2767  2018-12-21     240.70  246.74  249.710  240.0  255345594.0     118.72   \n",
       "2768  2018-12-24     234.34  239.04  240.836  234.0  147311594.0     120.02   \n",
       "2769  2018-12-27     248.07  242.57  248.290  239.0  186267297.0     120.57   \n",
       "2770  2018-12-28     247.75  249.58  251.400  246.0  153100188.0     121.06   \n",
       "\n",
       "      CLOSE_FXY  CLOSE_T10Y2Y  CLOSE_TED  CLOSE_USO  CLOSE_UUP  CLOSE_VIX  \\\n",
       "0         83.51        2.3263       0.31      48.67      25.07      10.24   \n",
       "1         82.90        2.3653       0.32      49.86      25.12      10.20   \n",
       "2         82.46        2.3871       0.31      50.33      25.12      10.18   \n",
       "3         82.78        2.3809       0.31      50.46      25.04      10.58   \n",
       "4         83.08        2.3795       0.31      50.90      25.04      11.15   \n",
       "...         ...           ...        ...        ...        ...        ...   \n",
       "2766      85.87        1.7807       0.48       9.72      25.77      28.38   \n",
       "2767      85.87        1.7651       0.48       9.57      25.94      30.11   \n",
       "2768      86.55        1.7505       0.40       9.29      25.55      36.07   \n",
       "2769      86.00        1.7581       0.44       9.62      25.57      29.96   \n",
       "2770      86.63        1.7320       0.45       9.53      25.50      28.34   \n",
       "\n",
       "      CLOSE_VWO  \n",
       "0        40.055  \n",
       "1        39.975  \n",
       "2        40.220  \n",
       "3        40.035  \n",
       "4        39.960  \n",
       "...         ...  \n",
       "2766     38.180  \n",
       "2767     37.870  \n",
       "2768     37.320  \n",
       "2769     37.900  \n",
       "2770     38.170  \n",
       "\n",
       "[2771 rows x 14 columns]"
      ]
     },
     "execution_count": 3,
     "metadata": {},
     "output_type": "execute_result"
    }
   ],
   "source": [
    "df = pd.read_csv('./ETFs_main.csv')\n",
    "df"
   ]
  },
  {
   "cell_type": "code",
   "execution_count": null,
   "metadata": {},
   "outputs": [],
   "source": [
    "# pd.set_option('display.max_columns', 30)"
   ]
  },
  {
   "cell_type": "code",
   "execution_count": 4,
   "metadata": {},
   "outputs": [
    {
     "name": "stdout",
     "output_type": "stream",
     "text": [
      "c:\\Users\\jh102\\OneDrive\\바탕 화면\\AIQuantTrading\n"
     ]
    }
   ],
   "source": [
    "print(os.getcwd())"
   ]
  },
  {
   "cell_type": "markdown",
   "metadata": {},
   "source": [
    "### 기술적 지표 만들기"
   ]
  },
  {
   "cell_type": "code",
   "execution_count": 5,
   "metadata": {},
   "outputs": [],
   "source": [
    "#기술적 지표 만들기\n",
    "def moving_average(df, n):\n",
    "    MA = pd.Series(df['CLOSE_SPY'].rolling(n, min_periods=n).mean(), name='MA_' + str(n))\n",
    "    df = df.join(MA)\n",
    "    return df\n",
    "\n",
    "def volume_moving_average(df, n):\n",
    "    VMA = pd.Series(df['VOLUME'].rolling(n, min_periods=n).mean(), name='VMA_' + str(n))\n",
    "    df = df.join(VMA)\n",
    "    return df\n",
    "\n",
    "def relative_strength_index(df, n):\n",
    "    \"\"\"Calculate Relative Strength Index(RSI) for given data.\n",
    "    \n",
    "    :param df: pandas.DataFrame\n",
    "    :param n: \n",
    "    :return: pandas.DataFrame\n",
    "    \"\"\"\n",
    "    i = 0\n",
    "    UpI = [0]\n",
    "    DoI = [0]    \n",
    "    while i + 1 <= df.index[-1]:\n",
    "        UpMove = df.loc[i + 1, 'HIGH'] - df.loc[i, 'HIGH']\n",
    "        DoMove = df.loc[i, 'LOW'] - df.loc[i + 1, 'LOW']\n",
    "        if UpMove > DoMove and UpMove > 0:\n",
    "            UpD = UpMove\n",
    "        else:\n",
    "            UpD = 0\n",
    "        UpI.append(UpD)\n",
    "        if DoMove > UpMove and DoMove > 0:\n",
    "            DoD = DoMove\n",
    "        else:\n",
    "            DoD = 0\n",
    "        DoI.append(DoD)\n",
    "        i = i + 1\n",
    "    UpI = pd.Series(UpI)\n",
    "    DoI = pd.Series(DoI)\n",
    "    PosDI = pd.Series(UpI.ewm(span=n, min_periods=n).mean())\n",
    "    NegDI = pd.Series(DoI.ewm(span=n, min_periods=n).mean())\n",
    "    RSI = pd.Series(PosDI / (PosDI + NegDI), name='RSI_' + str(n))\n",
    "    df = df.join(RSI)\n",
    "    return df"
   ]
  },
  {
   "cell_type": "code",
   "execution_count": 6,
   "metadata": {},
   "outputs": [],
   "source": [
    "df = moving_average(df, 45) # biz day = 45\n",
    "df = volume_moving_average(df, 45)\n",
    "df = relative_strength_index(df, 14) # 시장강도지지수는 보통 14일이나 21일 사용"
   ]
  },
  {
   "cell_type": "code",
   "execution_count": 7,
   "metadata": {},
   "outputs": [
    {
     "data": {
      "text/plain": [
       "2727"
      ]
     },
     "execution_count": 7,
     "metadata": {},
     "output_type": "execute_result"
    }
   ],
   "source": [
    "df = df.set_index('Dates')\n",
    "df = df.dropna() #dropna하기 때문에 쿠션 데이터 추가해주면 좋음.\n",
    "len(df)"
   ]
  },
  {
   "cell_type": "code",
   "execution_count": 8,
   "metadata": {},
   "outputs": [],
   "source": [
    "df['target'] = df['CLOSE_SPY'].pct_change()"
   ]
  },
  {
   "cell_type": "code",
   "execution_count": 9,
   "metadata": {},
   "outputs": [
    {
     "data": {
      "text/plain": [
       "count    2726.000000\n",
       "mean        0.000270\n",
       "std         0.013026\n",
       "min        -0.098448\n",
       "25%        -0.004320\n",
       "50%         0.000545\n",
       "75%         0.005791\n",
       "max         0.128249\n",
       "Name: target, dtype: float64"
      ]
     },
     "execution_count": 9,
     "metadata": {},
     "output_type": "execute_result"
    }
   ],
   "source": [
    "df['target'].describe()"
   ]
  },
  {
   "cell_type": "markdown",
   "metadata": {},
   "source": [
    "### Case 1 : 수수료 0"
   ]
  },
  {
   "cell_type": "code",
   "execution_count": 10,
   "metadata": {},
   "outputs": [
    {
     "data": {
      "text/plain": [
       "target\n",
       " 1    1471\n",
       "-1    1256\n",
       "Name: count, dtype: int64"
      ]
     },
     "execution_count": 10,
     "metadata": {},
     "output_type": "execute_result"
    }
   ],
   "source": [
    "# df['target'] = np.where(df['target'] > 0.0005 , 1, -1)\n",
    "df['target'] = np.where(df['target'] > 0 , 1, -1)\n",
    "df['target'].value_counts()"
   ]
  },
  {
   "cell_type": "markdown",
   "metadata": {},
   "source": [
    "주가가 오른날이 1471일, 내린날이 1256일이다. 불균형 데이터가 아니다. cf) 신용카드 연체율은 9:1의 비율이 나올 것이다.\n",
    "\n",
    "머신러닝 기반의 주가 트렌드 분류 모델은 54%~56% 정도의 정확도를 가진다면 매우 훌륭한 모델. 물론 AUC-ROC등의 지표와 MDD, 변동성 등 다 다양한 투자 성과와 지속가능 여부도 중요하다.\n",
    "\n",
    "보통의 주가 트렌드 예측 모델은 54% ~56% 정도의 정확도 달성하기도 힘들기 때문에 트렌드가 불균형하면 잘못된 모델이 다올 수 있다.\n",
    "ex) 모델이 훈련 중 특별한 패턴을 포착하지 못할 경우 정확도를 지표로 훈련하게 된다면, 모델 테스트를 할때 오른다고만 찍어도 54%의 확률로 맞는다.\n",
    "\n",
    "따라서 최대한 균일한 트렌드를 갖도록 만들거나, 정확도가 아닌 다른 평가 지표를 사용해야 한다."
   ]
  },
  {
   "cell_type": "code",
   "execution_count": 11,
   "metadata": {},
   "outputs": [],
   "source": [
    "df['target'] = df['target'].shift(-1)"
   ]
  },
  {
   "cell_type": "code",
   "execution_count": 12,
   "metadata": {},
   "outputs": [
    {
     "data": {
      "text/plain": [
       "2726"
      ]
     },
     "execution_count": 12,
     "metadata": {},
     "output_type": "execute_result"
    }
   ],
   "source": [
    "df = df.dropna()\n",
    "len(df)"
   ]
  },
  {
   "cell_type": "code",
   "execution_count": 13,
   "metadata": {},
   "outputs": [],
   "source": [
    "df['target'] = df['target'].astype(np.int64)\n",
    "y_var = df['target'] #-1과 1의 주가 하락과 상승의 정보 담은 변수\n",
    "# 예측에 사용하지 않는 변수 삭제\n",
    "x_var = df.drop(['target', 'OPEN','HIGH','LOW', 'VOLUME','CLOSE_SPY'], axis=1) "
   ]
  },
  {
   "cell_type": "code",
   "execution_count": 14,
   "metadata": {},
   "outputs": [
    {
     "data": {
      "text/html": [
       "<div>\n",
       "<style scoped>\n",
       "    .dataframe tbody tr th:only-of-type {\n",
       "        vertical-align: middle;\n",
       "    }\n",
       "\n",
       "    .dataframe tbody tr th {\n",
       "        vertical-align: top;\n",
       "    }\n",
       "\n",
       "    .dataframe thead th {\n",
       "        text-align: right;\n",
       "    }\n",
       "</style>\n",
       "<table border=\"1\" class=\"dataframe\">\n",
       "  <thead>\n",
       "    <tr style=\"text-align: right;\">\n",
       "      <th></th>\n",
       "      <th>CLOSE_GLD</th>\n",
       "      <th>CLOSE_FXY</th>\n",
       "      <th>CLOSE_T10Y2Y</th>\n",
       "      <th>CLOSE_TED</th>\n",
       "      <th>CLOSE_USO</th>\n",
       "      <th>CLOSE_UUP</th>\n",
       "      <th>CLOSE_VIX</th>\n",
       "      <th>CLOSE_VWO</th>\n",
       "      <th>MA_45</th>\n",
       "      <th>VMA_45</th>\n",
       "      <th>RSI_14</th>\n",
       "    </tr>\n",
       "    <tr>\n",
       "      <th>Dates</th>\n",
       "      <th></th>\n",
       "      <th></th>\n",
       "      <th></th>\n",
       "      <th></th>\n",
       "      <th></th>\n",
       "      <th></th>\n",
       "      <th></th>\n",
       "      <th></th>\n",
       "      <th></th>\n",
       "      <th></th>\n",
       "      <th></th>\n",
       "    </tr>\n",
       "  </thead>\n",
       "  <tbody>\n",
       "    <tr>\n",
       "      <th>2007-04-27</th>\n",
       "      <td>67.56</td>\n",
       "      <td>83.7300</td>\n",
       "      <td>2.4474</td>\n",
       "      <td>0.55</td>\n",
       "      <td>51.84</td>\n",
       "      <td>24.54</td>\n",
       "      <td>12.45</td>\n",
       "      <td>41.750</td>\n",
       "      <td>143.551556</td>\n",
       "      <td>1.106696e+08</td>\n",
       "      <td>0.670018</td>\n",
       "    </tr>\n",
       "    <tr>\n",
       "      <th>2007-04-30</th>\n",
       "      <td>67.09</td>\n",
       "      <td>83.7166</td>\n",
       "      <td>2.4361</td>\n",
       "      <td>0.57</td>\n",
       "      <td>51.24</td>\n",
       "      <td>24.49</td>\n",
       "      <td>14.22</td>\n",
       "      <td>40.935</td>\n",
       "      <td>143.601556</td>\n",
       "      <td>1.116466e+08</td>\n",
       "      <td>0.531751</td>\n",
       "    </tr>\n",
       "    <tr>\n",
       "      <th>2007-05-02</th>\n",
       "      <td>66.66</td>\n",
       "      <td>83.3800</td>\n",
       "      <td>2.4366</td>\n",
       "      <td>0.59</td>\n",
       "      <td>49.59</td>\n",
       "      <td>24.66</td>\n",
       "      <td>13.08</td>\n",
       "      <td>42.020</td>\n",
       "      <td>143.680667</td>\n",
       "      <td>1.121613e+08</td>\n",
       "      <td>0.554050</td>\n",
       "    </tr>\n",
       "    <tr>\n",
       "      <th>2007-05-03</th>\n",
       "      <td>67.49</td>\n",
       "      <td>83.1100</td>\n",
       "      <td>2.4346</td>\n",
       "      <td>0.60</td>\n",
       "      <td>49.28</td>\n",
       "      <td>24.69</td>\n",
       "      <td>13.09</td>\n",
       "      <td>42.435</td>\n",
       "      <td>143.780222</td>\n",
       "      <td>1.123421e+08</td>\n",
       "      <td>0.601028</td>\n",
       "    </tr>\n",
       "    <tr>\n",
       "      <th>2007-05-04</th>\n",
       "      <td>68.19</td>\n",
       "      <td>83.2300</td>\n",
       "      <td>2.4006</td>\n",
       "      <td>0.60</td>\n",
       "      <td>48.30</td>\n",
       "      <td>24.60</td>\n",
       "      <td>12.91</td>\n",
       "      <td>42.595</td>\n",
       "      <td>143.905111</td>\n",
       "      <td>1.128853e+08</td>\n",
       "      <td>0.665987</td>\n",
       "    </tr>\n",
       "  </tbody>\n",
       "</table>\n",
       "</div>"
      ],
      "text/plain": [
       "            CLOSE_GLD  CLOSE_FXY  CLOSE_T10Y2Y  CLOSE_TED  CLOSE_USO  \\\n",
       "Dates                                                                  \n",
       "2007-04-27      67.56    83.7300        2.4474       0.55      51.84   \n",
       "2007-04-30      67.09    83.7166        2.4361       0.57      51.24   \n",
       "2007-05-02      66.66    83.3800        2.4366       0.59      49.59   \n",
       "2007-05-03      67.49    83.1100        2.4346       0.60      49.28   \n",
       "2007-05-04      68.19    83.2300        2.4006       0.60      48.30   \n",
       "\n",
       "            CLOSE_UUP  CLOSE_VIX  CLOSE_VWO       MA_45        VMA_45  \\\n",
       "Dates                                                                   \n",
       "2007-04-27      24.54      12.45     41.750  143.551556  1.106696e+08   \n",
       "2007-04-30      24.49      14.22     40.935  143.601556  1.116466e+08   \n",
       "2007-05-02      24.66      13.08     42.020  143.680667  1.121613e+08   \n",
       "2007-05-03      24.69      13.09     42.435  143.780222  1.123421e+08   \n",
       "2007-05-04      24.60      12.91     42.595  143.905111  1.128853e+08   \n",
       "\n",
       "              RSI_14  \n",
       "Dates                 \n",
       "2007-04-27  0.670018  \n",
       "2007-04-30  0.531751  \n",
       "2007-05-02  0.554050  \n",
       "2007-05-03  0.601028  \n",
       "2007-05-04  0.665987  "
      ]
     },
     "execution_count": 14,
     "metadata": {},
     "output_type": "execute_result"
    }
   ],
   "source": [
    "x_var.head()"
   ]
  },
  {
   "cell_type": "code",
   "execution_count": 15,
   "metadata": {},
   "outputs": [
    {
     "name": "stdout",
     "output_type": "stream",
     "text": [
      "up/down ratio: 0.54\n"
     ]
    }
   ],
   "source": [
    "up=df[df['target']==1].target.count()\n",
    "total=df.target.count()\n",
    "print('up/down ratio: {0:.2f}'.format((up/total)))"
   ]
  },
  {
   "cell_type": "markdown",
   "metadata": {},
   "source": [
    "### 모델 학습"
   ]
  },
  {
   "cell_type": "code",
   "execution_count": 16,
   "metadata": {},
   "outputs": [
    {
     "name": "stdout",
     "output_type": "stream",
     "text": [
      "train set label ratio\n",
      "target\n",
      " 1    0.543501\n",
      "-1    0.456499\n",
      "Name: count, dtype: float64\n",
      "test set label ratio\n",
      "target\n",
      " 1    0.530562\n",
      "-1    0.469438\n",
      "Name: count, dtype: float64\n"
     ]
    }
   ],
   "source": [
    "#훈련 세트와 테스트 세트를 나눈다.\n",
    "#shuffle=False을 설정해 기간이 섞이지 않도록 만든다.\n",
    "#기간을 정확히 설정하려면 기간별로 데이터 슬라이스 기법을 사용해 분할한다.\n",
    "X_train, X_test, y_train, y_test = train_test_split(x_var, \n",
    "                                                    y_var, \n",
    "                                                    test_size=0.3, \n",
    "                                                    shuffle=False, \n",
    "                                                    random_state=3)\n",
    "\n",
    "#훈련 세트와 테스트 세트에 포함된 양성 샘플(up) 비율을 확인한다.\n",
    "train_count = y_train.count()\n",
    "test_count = y_test.count()\n",
    "\n",
    "print('train set label ratio')\n",
    "print(y_train.value_counts()/train_count)\n",
    "print('test set label ratio')\n",
    "print(y_test.value_counts()/test_count)\n",
    "# 훈련셋과 테스트셋의 양성/음성 비율이 비슷 --> 기간이 충분히 길다면 비슷하겠지만, 종목에 따라 다를 수 있음."
   ]
  },
  {
   "cell_type": "code",
   "execution_count": 17,
   "metadata": {},
   "outputs": [],
   "source": [
    "# 정확도, ROC-AUC 점수 등 혼동행렬을 계산하는 함수. micro-averge 내용 추가하여 수정.\n",
    "def get_confusion_matrix(y_test, pred):\n",
    "    confusion = confusion_matrix(y_test, pred)\n",
    "    accuracy = accuracy_score(y_test, pred)\n",
    "    # precision = precision_score(y_test, pred)\n",
    "    precision = precision_score(y_test, xgb_pred, average='micro')\n",
    "\n",
    "    # recall = recall_score(y_test, pred)\n",
    "    recall = recall_score(y_test, xgb_pred, average='micro')\n",
    "\n",
    "    # f1 = f1_score(y_test, pred)\n",
    "    f1 = f1_score(y_test, xgb_pred, average='micro')\n",
    "\n",
    "    roc_score = roc_auc_score(y_test, pred)\n",
    "    print('confusion matrix')\n",
    "    print('accuracy:{0:.4f},precision:{1:.4f},recall:{2:.4f},F1:{3:.4f},ROC AUC score:{4:.4f}'.format(accuracy, precision, recall, f1,roc_score))"
   ]
  },
  {
   "cell_type": "markdown",
   "metadata": {},
   "source": [
    "### 수익률이 0이였을때\n",
    "1-1 번 모델(XGBoostClassifier)"
   ]
  },
  {
   "cell_type": "code",
   "execution_count": 18,
   "metadata": {},
   "outputs": [],
   "source": [
    "from sklearn.preprocessing import LabelEncoder"
   ]
  },
  {
   "cell_type": "code",
   "execution_count": 19,
   "metadata": {},
   "outputs": [],
   "source": [
    "# # LabelEncoder를 사용하여 클래스 변환\n",
    "# label_encoder = LabelEncoder()\n",
    "# y_train_encoded = label_encoder.fit_transform(y_train)"
   ]
  },
  {
   "cell_type": "code",
   "execution_count": 20,
   "metadata": {},
   "outputs": [],
   "source": [
    "# xgb_dis = XGBClassifier(n_estimators=400, learning_rate=0.1, max_depth=3)\n",
    "# xgb_dis.fit(X_train, y_train)\n",
    "# # xgb_dis.fit(X_train, y_train_encoded)\n",
    "# xgb_pred = xgb_dis.predict(X_test)"
   ]
  },
  {
   "cell_type": "code",
   "execution_count": 21,
   "metadata": {},
   "outputs": [],
   "source": [
    "# from xgboost import XGBClassifier\n",
    "# from sklearn.model_selection import train_test_split\n",
    "\n",
    "# # 데이터를 학습 세트와 테스트 세트로 나누기\n",
    "# X_train, X_test, y_train, y_test = train_test_split(x_var, \n",
    "#                                                     y_var, \n",
    "#                                                     test_size=0.3, \n",
    "#                                                     shuffle=False, \n",
    "#                                                     random_state=3)\n",
    "\n",
    "# y_train을 [0, 1]로 변환\n",
    "y_train_binary = (y_train + 1) // 2\n",
    "\n",
    "# XGBClassifier 초기화 및 모델 학습\n",
    "xgb_dis = XGBClassifier(n_estimators=400, learning_rate=0.1, max_depth=3)\n",
    "xgb_dis.fit(X_train, y_train_binary)\n",
    "xgb_pred = xgb_dis.predict(X_test)"
   ]
  },
  {
   "cell_type": "code",
   "execution_count": 22,
   "metadata": {},
   "outputs": [
    {
     "data": {
      "text/html": [
       "<style>#sk-container-id-1 {color: black;background-color: white;}#sk-container-id-1 pre{padding: 0;}#sk-container-id-1 div.sk-toggleable {background-color: white;}#sk-container-id-1 label.sk-toggleable__label {cursor: pointer;display: block;width: 100%;margin-bottom: 0;padding: 0.3em;box-sizing: border-box;text-align: center;}#sk-container-id-1 label.sk-toggleable__label-arrow:before {content: \"▸\";float: left;margin-right: 0.25em;color: #696969;}#sk-container-id-1 label.sk-toggleable__label-arrow:hover:before {color: black;}#sk-container-id-1 div.sk-estimator:hover label.sk-toggleable__label-arrow:before {color: black;}#sk-container-id-1 div.sk-toggleable__content {max-height: 0;max-width: 0;overflow: hidden;text-align: left;background-color: #f0f8ff;}#sk-container-id-1 div.sk-toggleable__content pre {margin: 0.2em;color: black;border-radius: 0.25em;background-color: #f0f8ff;}#sk-container-id-1 input.sk-toggleable__control:checked~div.sk-toggleable__content {max-height: 200px;max-width: 100%;overflow: auto;}#sk-container-id-1 input.sk-toggleable__control:checked~label.sk-toggleable__label-arrow:before {content: \"▾\";}#sk-container-id-1 div.sk-estimator input.sk-toggleable__control:checked~label.sk-toggleable__label {background-color: #d4ebff;}#sk-container-id-1 div.sk-label input.sk-toggleable__control:checked~label.sk-toggleable__label {background-color: #d4ebff;}#sk-container-id-1 input.sk-hidden--visually {border: 0;clip: rect(1px 1px 1px 1px);clip: rect(1px, 1px, 1px, 1px);height: 1px;margin: -1px;overflow: hidden;padding: 0;position: absolute;width: 1px;}#sk-container-id-1 div.sk-estimator {font-family: monospace;background-color: #f0f8ff;border: 1px dotted black;border-radius: 0.25em;box-sizing: border-box;margin-bottom: 0.5em;}#sk-container-id-1 div.sk-estimator:hover {background-color: #d4ebff;}#sk-container-id-1 div.sk-parallel-item::after {content: \"\";width: 100%;border-bottom: 1px solid gray;flex-grow: 1;}#sk-container-id-1 div.sk-label:hover label.sk-toggleable__label {background-color: #d4ebff;}#sk-container-id-1 div.sk-serial::before {content: \"\";position: absolute;border-left: 1px solid gray;box-sizing: border-box;top: 0;bottom: 0;left: 50%;z-index: 0;}#sk-container-id-1 div.sk-serial {display: flex;flex-direction: column;align-items: center;background-color: white;padding-right: 0.2em;padding-left: 0.2em;position: relative;}#sk-container-id-1 div.sk-item {position: relative;z-index: 1;}#sk-container-id-1 div.sk-parallel {display: flex;align-items: stretch;justify-content: center;background-color: white;position: relative;}#sk-container-id-1 div.sk-item::before, #sk-container-id-1 div.sk-parallel-item::before {content: \"\";position: absolute;border-left: 1px solid gray;box-sizing: border-box;top: 0;bottom: 0;left: 50%;z-index: -1;}#sk-container-id-1 div.sk-parallel-item {display: flex;flex-direction: column;z-index: 1;position: relative;background-color: white;}#sk-container-id-1 div.sk-parallel-item:first-child::after {align-self: flex-end;width: 50%;}#sk-container-id-1 div.sk-parallel-item:last-child::after {align-self: flex-start;width: 50%;}#sk-container-id-1 div.sk-parallel-item:only-child::after {width: 0;}#sk-container-id-1 div.sk-dashed-wrapped {border: 1px dashed gray;margin: 0 0.4em 0.5em 0.4em;box-sizing: border-box;padding-bottom: 0.4em;background-color: white;}#sk-container-id-1 div.sk-label label {font-family: monospace;font-weight: bold;display: inline-block;line-height: 1.2em;}#sk-container-id-1 div.sk-label-container {text-align: center;}#sk-container-id-1 div.sk-container {/* jupyter's `normalize.less` sets `[hidden] { display: none; }` but bootstrap.min.css set `[hidden] { display: none !important; }` so we also need the `!important` here to be able to override the default hidden behavior on the sphinx rendered scikit-learn.org. See: https://github.com/scikit-learn/scikit-learn/issues/21755 */display: inline-block !important;position: relative;}#sk-container-id-1 div.sk-text-repr-fallback {display: none;}</style><div id=\"sk-container-id-1\" class=\"sk-top-container\"><div class=\"sk-text-repr-fallback\"><pre>XGBClassifier(base_score=None, booster=None, callbacks=None,\n",
       "              colsample_bylevel=None, colsample_bynode=None,\n",
       "              colsample_bytree=None, device=None, early_stopping_rounds=None,\n",
       "              enable_categorical=False, eval_metric=None, feature_types=None,\n",
       "              gamma=None, grow_policy=None, importance_type=None,\n",
       "              interaction_constraints=None, learning_rate=0.1, max_bin=None,\n",
       "              max_cat_threshold=None, max_cat_to_onehot=None,\n",
       "              max_delta_step=None, max_depth=3, max_leaves=None,\n",
       "              min_child_weight=None, missing=nan, monotone_constraints=None,\n",
       "              multi_strategy=None, n_estimators=400, n_jobs=None,\n",
       "              num_parallel_tree=None, random_state=None, ...)</pre><b>In a Jupyter environment, please rerun this cell to show the HTML representation or trust the notebook. <br />On GitHub, the HTML representation is unable to render, please try loading this page with nbviewer.org.</b></div><div class=\"sk-container\" hidden><div class=\"sk-item\"><div class=\"sk-estimator sk-toggleable\"><input class=\"sk-toggleable__control sk-hidden--visually\" id=\"sk-estimator-id-1\" type=\"checkbox\" checked><label for=\"sk-estimator-id-1\" class=\"sk-toggleable__label sk-toggleable__label-arrow\">XGBClassifier</label><div class=\"sk-toggleable__content\"><pre>XGBClassifier(base_score=None, booster=None, callbacks=None,\n",
       "              colsample_bylevel=None, colsample_bynode=None,\n",
       "              colsample_bytree=None, device=None, early_stopping_rounds=None,\n",
       "              enable_categorical=False, eval_metric=None, feature_types=None,\n",
       "              gamma=None, grow_policy=None, importance_type=None,\n",
       "              interaction_constraints=None, learning_rate=0.1, max_bin=None,\n",
       "              max_cat_threshold=None, max_cat_to_onehot=None,\n",
       "              max_delta_step=None, max_depth=3, max_leaves=None,\n",
       "              min_child_weight=None, missing=nan, monotone_constraints=None,\n",
       "              multi_strategy=None, n_estimators=400, n_jobs=None,\n",
       "              num_parallel_tree=None, random_state=None, ...)</pre></div></div></div></div></div>"
      ],
      "text/plain": [
       "XGBClassifier(base_score=None, booster=None, callbacks=None,\n",
       "              colsample_bylevel=None, colsample_bynode=None,\n",
       "              colsample_bytree=None, device=None, early_stopping_rounds=None,\n",
       "              enable_categorical=False, eval_metric=None, feature_types=None,\n",
       "              gamma=None, grow_policy=None, importance_type=None,\n",
       "              interaction_constraints=None, learning_rate=0.1, max_bin=None,\n",
       "              max_cat_threshold=None, max_cat_to_onehot=None,\n",
       "              max_delta_step=None, max_depth=3, max_leaves=None,\n",
       "              min_child_weight=None, missing=nan, monotone_constraints=None,\n",
       "              multi_strategy=None, n_estimators=400, n_jobs=None,\n",
       "              num_parallel_tree=None, random_state=None, ...)"
      ]
     },
     "execution_count": 22,
     "metadata": {},
     "output_type": "execute_result"
    }
   ],
   "source": [
    "xgb_dis"
   ]
  },
  {
   "cell_type": "code",
   "execution_count": 23,
   "metadata": {},
   "outputs": [
    {
     "name": "stdout",
     "output_type": "stream",
     "text": [
      "0.49580712788259956\n"
     ]
    }
   ],
   "source": [
    "print(xgb_dis.score(X_train, y_train))"
   ]
  },
  {
   "cell_type": "code",
   "execution_count": 24,
   "metadata": {},
   "outputs": [
    {
     "name": "stdout",
     "output_type": "stream",
     "text": [
      "confusion matrix\n",
      "accuracy:0.2225,precision:0.2225,recall:0.2225,F1:0.2225,ROC AUC score:0.4922\n"
     ]
    }
   ],
   "source": [
    "get_confusion_matrix(y_test, xgb_pred)\n",
    "# 매일 오른다고만 찍어도 54%의 정확도가 나와야 하는데, 훈련에서 49%정확도를 보여주고 테스트셋에 적용해보니 22.25%의 정확도가 나왔다.\n",
    "# 과적합over-fitting 문제이다."
   ]
  },
  {
   "cell_type": "markdown",
   "metadata": {},
   "source": [
    "### 수익률이 0이였을 때\n",
    "1-2 번 모델(Random Forest Classifier)"
   ]
  },
  {
   "cell_type": "code",
   "execution_count": 25,
   "metadata": {},
   "outputs": [],
   "source": [
    "# 랜덤 포레스트 알고리즘. 매개변수를 지정하지 않고, GridSearchCV() 함수를 사용 --> 여러 가지 값을 돌아가면서 테스트\n",
    "# n_estimators와 parameters 지정.\n",
    "n_estimators = range(10,200,10)\n",
    "\n",
    "params = {\n",
    "    'bootstrap': [True],\n",
    "    'n_estimators':n_estimators,\n",
    "    'max_depth':[4,6,8,10,12],\n",
    "    'min_samples_leaf': [2, 3, 4, 5],\n",
    "    'min_samples_split': [2, 4, 6, 8, 10],\n",
    "    'max_features':[4]\n",
    "}"
   ]
  },
  {
   "cell_type": "code",
   "execution_count": 26,
   "metadata": {},
   "outputs": [],
   "source": [
    "# 교차검증 방법\n",
    "my_cv = TimeSeriesSplit(n_splits=5).split(X_train)"
   ]
  },
  {
   "cell_type": "code",
   "execution_count": 27,
   "metadata": {},
   "outputs": [
    {
     "data": {
      "text/plain": [
       "<generator object TimeSeriesSplit.split at 0x0000022ECF26D180>"
      ]
     },
     "execution_count": 27,
     "metadata": {},
     "output_type": "execute_result"
    }
   ],
   "source": [
    "my_cv"
   ]
  },
  {
   "cell_type": "code",
   "execution_count": 28,
   "metadata": {},
   "outputs": [],
   "source": [
    "clf = GridSearchCV(RandomForestClassifier(), params, cv=my_cv, n_jobs=-1)"
   ]
  },
  {
   "cell_type": "code",
   "execution_count": 29,
   "metadata": {},
   "outputs": [
    {
     "data": {
      "text/html": [
       "<style>#sk-container-id-2 {color: black;background-color: white;}#sk-container-id-2 pre{padding: 0;}#sk-container-id-2 div.sk-toggleable {background-color: white;}#sk-container-id-2 label.sk-toggleable__label {cursor: pointer;display: block;width: 100%;margin-bottom: 0;padding: 0.3em;box-sizing: border-box;text-align: center;}#sk-container-id-2 label.sk-toggleable__label-arrow:before {content: \"▸\";float: left;margin-right: 0.25em;color: #696969;}#sk-container-id-2 label.sk-toggleable__label-arrow:hover:before {color: black;}#sk-container-id-2 div.sk-estimator:hover label.sk-toggleable__label-arrow:before {color: black;}#sk-container-id-2 div.sk-toggleable__content {max-height: 0;max-width: 0;overflow: hidden;text-align: left;background-color: #f0f8ff;}#sk-container-id-2 div.sk-toggleable__content pre {margin: 0.2em;color: black;border-radius: 0.25em;background-color: #f0f8ff;}#sk-container-id-2 input.sk-toggleable__control:checked~div.sk-toggleable__content {max-height: 200px;max-width: 100%;overflow: auto;}#sk-container-id-2 input.sk-toggleable__control:checked~label.sk-toggleable__label-arrow:before {content: \"▾\";}#sk-container-id-2 div.sk-estimator input.sk-toggleable__control:checked~label.sk-toggleable__label {background-color: #d4ebff;}#sk-container-id-2 div.sk-label input.sk-toggleable__control:checked~label.sk-toggleable__label {background-color: #d4ebff;}#sk-container-id-2 input.sk-hidden--visually {border: 0;clip: rect(1px 1px 1px 1px);clip: rect(1px, 1px, 1px, 1px);height: 1px;margin: -1px;overflow: hidden;padding: 0;position: absolute;width: 1px;}#sk-container-id-2 div.sk-estimator {font-family: monospace;background-color: #f0f8ff;border: 1px dotted black;border-radius: 0.25em;box-sizing: border-box;margin-bottom: 0.5em;}#sk-container-id-2 div.sk-estimator:hover {background-color: #d4ebff;}#sk-container-id-2 div.sk-parallel-item::after {content: \"\";width: 100%;border-bottom: 1px solid gray;flex-grow: 1;}#sk-container-id-2 div.sk-label:hover label.sk-toggleable__label {background-color: #d4ebff;}#sk-container-id-2 div.sk-serial::before {content: \"\";position: absolute;border-left: 1px solid gray;box-sizing: border-box;top: 0;bottom: 0;left: 50%;z-index: 0;}#sk-container-id-2 div.sk-serial {display: flex;flex-direction: column;align-items: center;background-color: white;padding-right: 0.2em;padding-left: 0.2em;position: relative;}#sk-container-id-2 div.sk-item {position: relative;z-index: 1;}#sk-container-id-2 div.sk-parallel {display: flex;align-items: stretch;justify-content: center;background-color: white;position: relative;}#sk-container-id-2 div.sk-item::before, #sk-container-id-2 div.sk-parallel-item::before {content: \"\";position: absolute;border-left: 1px solid gray;box-sizing: border-box;top: 0;bottom: 0;left: 50%;z-index: -1;}#sk-container-id-2 div.sk-parallel-item {display: flex;flex-direction: column;z-index: 1;position: relative;background-color: white;}#sk-container-id-2 div.sk-parallel-item:first-child::after {align-self: flex-end;width: 50%;}#sk-container-id-2 div.sk-parallel-item:last-child::after {align-self: flex-start;width: 50%;}#sk-container-id-2 div.sk-parallel-item:only-child::after {width: 0;}#sk-container-id-2 div.sk-dashed-wrapped {border: 1px dashed gray;margin: 0 0.4em 0.5em 0.4em;box-sizing: border-box;padding-bottom: 0.4em;background-color: white;}#sk-container-id-2 div.sk-label label {font-family: monospace;font-weight: bold;display: inline-block;line-height: 1.2em;}#sk-container-id-2 div.sk-label-container {text-align: center;}#sk-container-id-2 div.sk-container {/* jupyter's `normalize.less` sets `[hidden] { display: none; }` but bootstrap.min.css set `[hidden] { display: none !important; }` so we also need the `!important` here to be able to override the default hidden behavior on the sphinx rendered scikit-learn.org. See: https://github.com/scikit-learn/scikit-learn/issues/21755 */display: inline-block !important;position: relative;}#sk-container-id-2 div.sk-text-repr-fallback {display: none;}</style><div id=\"sk-container-id-2\" class=\"sk-top-container\"><div class=\"sk-text-repr-fallback\"><pre>GridSearchCV(cv=&lt;generator object TimeSeriesSplit.split at 0x0000022ECF26D180&gt;,\n",
       "             estimator=RandomForestClassifier(), n_jobs=-1,\n",
       "             param_grid={&#x27;bootstrap&#x27;: [True], &#x27;max_depth&#x27;: [4, 6, 8, 10, 12],\n",
       "                         &#x27;max_features&#x27;: [4], &#x27;min_samples_leaf&#x27;: [2, 3, 4, 5],\n",
       "                         &#x27;min_samples_split&#x27;: [2, 4, 6, 8, 10],\n",
       "                         &#x27;n_estimators&#x27;: range(10, 200, 10)})</pre><b>In a Jupyter environment, please rerun this cell to show the HTML representation or trust the notebook. <br />On GitHub, the HTML representation is unable to render, please try loading this page with nbviewer.org.</b></div><div class=\"sk-container\" hidden><div class=\"sk-item sk-dashed-wrapped\"><div class=\"sk-label-container\"><div class=\"sk-label sk-toggleable\"><input class=\"sk-toggleable__control sk-hidden--visually\" id=\"sk-estimator-id-2\" type=\"checkbox\" ><label for=\"sk-estimator-id-2\" class=\"sk-toggleable__label sk-toggleable__label-arrow\">GridSearchCV</label><div class=\"sk-toggleable__content\"><pre>GridSearchCV(cv=&lt;generator object TimeSeriesSplit.split at 0x0000022ECF26D180&gt;,\n",
       "             estimator=RandomForestClassifier(), n_jobs=-1,\n",
       "             param_grid={&#x27;bootstrap&#x27;: [True], &#x27;max_depth&#x27;: [4, 6, 8, 10, 12],\n",
       "                         &#x27;max_features&#x27;: [4], &#x27;min_samples_leaf&#x27;: [2, 3, 4, 5],\n",
       "                         &#x27;min_samples_split&#x27;: [2, 4, 6, 8, 10],\n",
       "                         &#x27;n_estimators&#x27;: range(10, 200, 10)})</pre></div></div></div><div class=\"sk-parallel\"><div class=\"sk-parallel-item\"><div class=\"sk-item\"><div class=\"sk-label-container\"><div class=\"sk-label sk-toggleable\"><input class=\"sk-toggleable__control sk-hidden--visually\" id=\"sk-estimator-id-3\" type=\"checkbox\" ><label for=\"sk-estimator-id-3\" class=\"sk-toggleable__label sk-toggleable__label-arrow\">estimator: RandomForestClassifier</label><div class=\"sk-toggleable__content\"><pre>RandomForestClassifier()</pre></div></div></div><div class=\"sk-serial\"><div class=\"sk-item\"><div class=\"sk-estimator sk-toggleable\"><input class=\"sk-toggleable__control sk-hidden--visually\" id=\"sk-estimator-id-4\" type=\"checkbox\" ><label for=\"sk-estimator-id-4\" class=\"sk-toggleable__label sk-toggleable__label-arrow\">RandomForestClassifier</label><div class=\"sk-toggleable__content\"><pre>RandomForestClassifier()</pre></div></div></div></div></div></div></div></div></div></div>"
      ],
      "text/plain": [
       "GridSearchCV(cv=<generator object TimeSeriesSplit.split at 0x0000022ECF26D180>,\n",
       "             estimator=RandomForestClassifier(), n_jobs=-1,\n",
       "             param_grid={'bootstrap': [True], 'max_depth': [4, 6, 8, 10, 12],\n",
       "                         'max_features': [4], 'min_samples_leaf': [2, 3, 4, 5],\n",
       "                         'min_samples_split': [2, 4, 6, 8, 10],\n",
       "                         'n_estimators': range(10, 200, 10)})"
      ]
     },
     "execution_count": 29,
     "metadata": {},
     "output_type": "execute_result"
    }
   ],
   "source": [
    "clf # page 209"
   ]
  },
  {
   "cell_type": "markdown",
   "metadata": {},
   "source": [
    "xgboost를 훈련한 방법과 동일하게, RandomForestClassifier()에 설정한 파라미터와 교차검증 방법을 넣어주고 fit으로 훈련"
   ]
  },
  {
   "cell_type": "code",
   "execution_count": 30,
   "metadata": {},
   "outputs": [],
   "source": [
    "import time"
   ]
  },
  {
   "cell_type": "code",
   "execution_count": 31,
   "metadata": {},
   "outputs": [
    {
     "name": "stdout",
     "output_type": "stream",
     "text": [
      "953.7824938297272  seconds consumed\n"
     ]
    }
   ],
   "source": [
    "start_time = time.time()\n",
    "clf.fit(X_train, y_train)\n",
    "print(time.time() - start_time,\" seconds consumed\")"
   ]
  },
  {
   "cell_type": "code",
   "execution_count": 33,
   "metadata": {},
   "outputs": [
    {
     "name": "stdout",
     "output_type": "stream",
     "text": [
      "best parameter:\n",
      " {'bootstrap': True, 'max_depth': 4, 'max_features': 4, 'min_samples_leaf': 4, 'min_samples_split': 2, 'n_estimators': 30}\n",
      "best prediction:0.5591\n"
     ]
    }
   ],
   "source": [
    "## Random Forest에서 best param\n",
    "print('best parameter:\\n', clf.best_params_) # 최적의 파라미터 나열\n",
    "print('best prediction:{0:.4f}'.format(clf.best_score_)) # 가장 높았던 정확도 보여줌. 과적합은 아닌것 같지만 과소적합의 가능성."
   ]
  },
  {
   "cell_type": "code",
   "execution_count": 34,
   "metadata": {},
   "outputs": [
    {
     "name": "stdout",
     "output_type": "stream",
     "text": [
      "accuracy:0.4694\n",
      "confusion matrix\n",
      "accuracy:0.4694,precision:0.2225,recall:0.2225,F1:0.2225,ROC AUC score:0.4892\n"
     ]
    }
   ],
   "source": [
    "pred_con = clf.predict(X_test)\n",
    "accuracy_con = accuracy_score(y_test, pred_con)\n",
    "print('accuracy:{0:.4f}'.format(accuracy_con))\n",
    "get_confusion_matrix(y_test, pred_con)\n",
    "# 46%의 정확도 --> 여전히 마구잡이로 찍는 것보다 못한 수치."
   ]
  },
  {
   "cell_type": "markdown",
   "metadata": {},
   "source": [
    "### 수익률이 0.05% 이였을 떄\n",
    "\n",
    "0.001% 처럼 미세한 움직임은 버리고 큰 폭으로 오르는 트렌드만 잡도록 훈련시켜보기"
   ]
  },
  {
   "cell_type": "markdown",
   "metadata": {},
   "source": [
    "### 데이터"
   ]
  },
  {
   "cell_type": "code",
   "execution_count": 36,
   "metadata": {},
   "outputs": [],
   "source": [
    "df = pd.read_csv('./ETFs_main.csv')\n",
    "df = moving_average(df, 45)\n",
    "df = volume_moving_average(df, 45)\n",
    "df = relative_strength_index(df, 14)\n",
    "df = df.set_index('Dates')\n",
    "df = df.dropna()\n",
    "df['target'] = df['CLOSE_SPY'].pct_change()"
   ]
  },
  {
   "cell_type": "code",
   "execution_count": 37,
   "metadata": {},
   "outputs": [
    {
     "data": {
      "text/plain": [
       "count    2726.000000\n",
       "mean        0.000270\n",
       "std         0.013026\n",
       "min        -0.098448\n",
       "25%        -0.004320\n",
       "50%         0.000545\n",
       "75%         0.005791\n",
       "max         0.128249\n",
       "Name: target, dtype: float64"
      ]
     },
     "execution_count": 37,
     "metadata": {},
     "output_type": "execute_result"
    }
   ],
   "source": [
    "df['target'].describe() # SnP 500 지수는 평균적으로 0..02% 올랐고 / 표준편차는 1.3%이다. 매우 안정적이어서 머신러닝 알고리즘으로 패턴 잡아내기가 힘들 수 있음."
   ]
  },
  {
   "cell_type": "code",
   "execution_count": 38,
   "metadata": {},
   "outputs": [
    {
     "data": {
      "text/plain": [
       "target\n",
       " 1    1375\n",
       "-1    1352\n",
       "Name: count, dtype: int64"
      ]
     },
     "execution_count": 38,
     "metadata": {},
     "output_type": "execute_result"
    }
   ],
   "source": [
    "df['target'] = np.where(df['target'] > 0.0005 , 1, -1)\n",
    "# df['target'] = np.where(df['target'] > 0 , 1, -1)\n",
    "df['target'].value_counts()"
   ]
  },
  {
   "cell_type": "code",
   "execution_count": 39,
   "metadata": {},
   "outputs": [
    {
     "data": {
      "text/plain": [
       "2726"
      ]
     },
     "execution_count": 39,
     "metadata": {},
     "output_type": "execute_result"
    }
   ],
   "source": [
    "df['target'] = df['target'].shift(-1)\n",
    "df = df.dropna()\n",
    "len(df)"
   ]
  },
  {
   "cell_type": "code",
   "execution_count": 40,
   "metadata": {},
   "outputs": [
    {
     "name": "stdout",
     "output_type": "stream",
     "text": [
      "up/down ratio: 0.50\n"
     ]
    }
   ],
   "source": [
    "df['target'] = df['target'].astype(np.int64)\n",
    "y_var = df['target']\n",
    "# 예측에 사용하지 않는 변수 삭제\n",
    "x_var = df.drop(['target', 'OPEN','HIGH','LOW', 'VOLUME','CLOSE_SPY'], axis=1) \n",
    "up=df[df['target']==1].target.count()\n",
    "total=df.target.count()\n",
    "print('up/down ratio: {0:.2f}'.format((up/total)))"
   ]
  },
  {
   "cell_type": "code",
   "execution_count": 62,
   "metadata": {},
   "outputs": [
    {
     "name": "stdout",
     "output_type": "stream",
     "text": [
      "train set label ratio\n",
      "target\n",
      " 1    0.509958\n",
      "-1    0.490042\n",
      "Name: count, dtype: float64\n",
      "test set label ratio\n",
      "target\n",
      "-1    0.508557\n",
      " 1    0.491443\n",
      "Name: count, dtype: float64\n"
     ]
    }
   ],
   "source": [
    "#훈련 세트와 테스트 세트를 나눈다.\n",
    "#shuffle=False을 설정해 기간이 섞이지 않도록 만든다.\n",
    "X_train, X_test, y_train, y_test = train_test_split(x_var, \n",
    "                                                    y_var, \n",
    "                                                    test_size=0.3, \n",
    "                                                    shuffle=False, \n",
    "                                                    random_state=3)\n",
    "\n",
    "#훈련 세트와 테스트 세트에 포함된 양성 샘플(up) 비율을 확인한다.\n",
    "train_count = y_train.count()\n",
    "test_count = y_test.count()\n",
    "\n",
    "print('train set label ratio')\n",
    "print(y_train.value_counts()/train_count)\n",
    "print('test set label ratio')\n",
    "print(y_test.value_counts()/test_count)"
   ]
  },
  {
   "cell_type": "markdown",
   "metadata": {},
   "source": [
    "### 수익률이 0.05% 이였을떄\n",
    "2-1 번 모델 (XGBoost Classifier)"
   ]
  },
  {
   "cell_type": "code",
   "execution_count": 63,
   "metadata": {},
   "outputs": [
    {
     "data": {
      "text/html": [
       "<style>#sk-container-id-5 {color: black;background-color: white;}#sk-container-id-5 pre{padding: 0;}#sk-container-id-5 div.sk-toggleable {background-color: white;}#sk-container-id-5 label.sk-toggleable__label {cursor: pointer;display: block;width: 100%;margin-bottom: 0;padding: 0.3em;box-sizing: border-box;text-align: center;}#sk-container-id-5 label.sk-toggleable__label-arrow:before {content: \"▸\";float: left;margin-right: 0.25em;color: #696969;}#sk-container-id-5 label.sk-toggleable__label-arrow:hover:before {color: black;}#sk-container-id-5 div.sk-estimator:hover label.sk-toggleable__label-arrow:before {color: black;}#sk-container-id-5 div.sk-toggleable__content {max-height: 0;max-width: 0;overflow: hidden;text-align: left;background-color: #f0f8ff;}#sk-container-id-5 div.sk-toggleable__content pre {margin: 0.2em;color: black;border-radius: 0.25em;background-color: #f0f8ff;}#sk-container-id-5 input.sk-toggleable__control:checked~div.sk-toggleable__content {max-height: 200px;max-width: 100%;overflow: auto;}#sk-container-id-5 input.sk-toggleable__control:checked~label.sk-toggleable__label-arrow:before {content: \"▾\";}#sk-container-id-5 div.sk-estimator input.sk-toggleable__control:checked~label.sk-toggleable__label {background-color: #d4ebff;}#sk-container-id-5 div.sk-label input.sk-toggleable__control:checked~label.sk-toggleable__label {background-color: #d4ebff;}#sk-container-id-5 input.sk-hidden--visually {border: 0;clip: rect(1px 1px 1px 1px);clip: rect(1px, 1px, 1px, 1px);height: 1px;margin: -1px;overflow: hidden;padding: 0;position: absolute;width: 1px;}#sk-container-id-5 div.sk-estimator {font-family: monospace;background-color: #f0f8ff;border: 1px dotted black;border-radius: 0.25em;box-sizing: border-box;margin-bottom: 0.5em;}#sk-container-id-5 div.sk-estimator:hover {background-color: #d4ebff;}#sk-container-id-5 div.sk-parallel-item::after {content: \"\";width: 100%;border-bottom: 1px solid gray;flex-grow: 1;}#sk-container-id-5 div.sk-label:hover label.sk-toggleable__label {background-color: #d4ebff;}#sk-container-id-5 div.sk-serial::before {content: \"\";position: absolute;border-left: 1px solid gray;box-sizing: border-box;top: 0;bottom: 0;left: 50%;z-index: 0;}#sk-container-id-5 div.sk-serial {display: flex;flex-direction: column;align-items: center;background-color: white;padding-right: 0.2em;padding-left: 0.2em;position: relative;}#sk-container-id-5 div.sk-item {position: relative;z-index: 1;}#sk-container-id-5 div.sk-parallel {display: flex;align-items: stretch;justify-content: center;background-color: white;position: relative;}#sk-container-id-5 div.sk-item::before, #sk-container-id-5 div.sk-parallel-item::before {content: \"\";position: absolute;border-left: 1px solid gray;box-sizing: border-box;top: 0;bottom: 0;left: 50%;z-index: -1;}#sk-container-id-5 div.sk-parallel-item {display: flex;flex-direction: column;z-index: 1;position: relative;background-color: white;}#sk-container-id-5 div.sk-parallel-item:first-child::after {align-self: flex-end;width: 50%;}#sk-container-id-5 div.sk-parallel-item:last-child::after {align-self: flex-start;width: 50%;}#sk-container-id-5 div.sk-parallel-item:only-child::after {width: 0;}#sk-container-id-5 div.sk-dashed-wrapped {border: 1px dashed gray;margin: 0 0.4em 0.5em 0.4em;box-sizing: border-box;padding-bottom: 0.4em;background-color: white;}#sk-container-id-5 div.sk-label label {font-family: monospace;font-weight: bold;display: inline-block;line-height: 1.2em;}#sk-container-id-5 div.sk-label-container {text-align: center;}#sk-container-id-5 div.sk-container {/* jupyter's `normalize.less` sets `[hidden] { display: none; }` but bootstrap.min.css set `[hidden] { display: none !important; }` so we also need the `!important` here to be able to override the default hidden behavior on the sphinx rendered scikit-learn.org. See: https://github.com/scikit-learn/scikit-learn/issues/21755 */display: inline-block !important;position: relative;}#sk-container-id-5 div.sk-text-repr-fallback {display: none;}</style><div id=\"sk-container-id-5\" class=\"sk-top-container\"><div class=\"sk-text-repr-fallback\"><pre>XGBClassifier(base_score=None, booster=None, callbacks=None,\n",
       "              colsample_bylevel=None, colsample_bynode=None,\n",
       "              colsample_bytree=None, device=None, early_stopping_rounds=None,\n",
       "              enable_categorical=False, eval_metric=None, feature_types=None,\n",
       "              gamma=None, grow_policy=None, importance_type=None,\n",
       "              interaction_constraints=None, learning_rate=0.1, max_bin=None,\n",
       "              max_cat_threshold=None, max_cat_to_onehot=None,\n",
       "              max_delta_step=None, max_depth=3, max_leaves=None,\n",
       "              min_child_weight=None, missing=nan, monotone_constraints=None,\n",
       "              multi_strategy=None, n_estimators=400, n_jobs=None,\n",
       "              num_parallel_tree=None, random_state=None, ...)</pre><b>In a Jupyter environment, please rerun this cell to show the HTML representation or trust the notebook. <br />On GitHub, the HTML representation is unable to render, please try loading this page with nbviewer.org.</b></div><div class=\"sk-container\" hidden><div class=\"sk-item\"><div class=\"sk-estimator sk-toggleable\"><input class=\"sk-toggleable__control sk-hidden--visually\" id=\"sk-estimator-id-7\" type=\"checkbox\" checked><label for=\"sk-estimator-id-7\" class=\"sk-toggleable__label sk-toggleable__label-arrow\">XGBClassifier</label><div class=\"sk-toggleable__content\"><pre>XGBClassifier(base_score=None, booster=None, callbacks=None,\n",
       "              colsample_bylevel=None, colsample_bynode=None,\n",
       "              colsample_bytree=None, device=None, early_stopping_rounds=None,\n",
       "              enable_categorical=False, eval_metric=None, feature_types=None,\n",
       "              gamma=None, grow_policy=None, importance_type=None,\n",
       "              interaction_constraints=None, learning_rate=0.1, max_bin=None,\n",
       "              max_cat_threshold=None, max_cat_to_onehot=None,\n",
       "              max_delta_step=None, max_depth=3, max_leaves=None,\n",
       "              min_child_weight=None, missing=nan, monotone_constraints=None,\n",
       "              multi_strategy=None, n_estimators=400, n_jobs=None,\n",
       "              num_parallel_tree=None, random_state=None, ...)</pre></div></div></div></div></div>"
      ],
      "text/plain": [
       "XGBClassifier(base_score=None, booster=None, callbacks=None,\n",
       "              colsample_bylevel=None, colsample_bynode=None,\n",
       "              colsample_bytree=None, device=None, early_stopping_rounds=None,\n",
       "              enable_categorical=False, eval_metric=None, feature_types=None,\n",
       "              gamma=None, grow_policy=None, importance_type=None,\n",
       "              interaction_constraints=None, learning_rate=0.1, max_bin=None,\n",
       "              max_cat_threshold=None, max_cat_to_onehot=None,\n",
       "              max_delta_step=None, max_depth=3, max_leaves=None,\n",
       "              min_child_weight=None, missing=nan, monotone_constraints=None,\n",
       "              multi_strategy=None, n_estimators=400, n_jobs=None,\n",
       "              num_parallel_tree=None, random_state=None, ...)"
      ]
     },
     "execution_count": 63,
     "metadata": {},
     "output_type": "execute_result"
    }
   ],
   "source": [
    "from xgboost import XGBClassifier\n",
    "from sklearn.metrics import confusion_matrix, accuracy_score\n",
    "\n",
    "# 클래스 레이블 수정\n",
    "y_train = (y_train + 1) // 2\n",
    "y_test = (y_test + 1) // 2\n",
    "\n",
    "# XGBoost 모델 생성 및 학습\n",
    "xgb_dis = XGBClassifier(n_estimators=400, learning_rate=0.1, max_depth=3, objective='binary:logistic')\n",
    "xgb_dis.fit(X_train, y_train)"
   ]
  },
  {
   "cell_type": "code",
   "execution_count": 66,
   "metadata": {},
   "outputs": [
    {
     "name": "stdout",
     "output_type": "stream",
     "text": [
      "0.8579664570230608\n",
      "confusion matrix\n",
      "accuracy:0.5269,precision:0.5269,recall:0.5269,F1:0.5269,ROC AUC score:0.5241\n"
     ]
    }
   ],
   "source": [
    "xgb_pred = xgb_dis.predict(X_test)\n",
    "print(xgb_dis.score(X_train, y_train))\n",
    "get_confusion_matrix(y_test, xgb_pred)"
   ]
  },
  {
   "cell_type": "markdown",
   "metadata": {},
   "source": [
    "이전 모델 보다는 안정적이고 과적합 문제가 적다.\n",
    "보수적이라면 56% 이상의 정확도나 AUC-ROC 점수를 확보하는 것이 좋다. 단, 그럴 경우 과적합을 의심해 봐야 한다."
   ]
  },
  {
   "cell_type": "markdown",
   "metadata": {},
   "source": [
    "### 수익률이 0.05% 이였을 때\n",
    "2-2번째 모델링(Random Forest Classifier)"
   ]
  },
  {
   "cell_type": "code",
   "execution_count": 67,
   "metadata": {},
   "outputs": [],
   "source": [
    "n_estimators = range(10,200,10)\n",
    "\n",
    "params = {\n",
    "    'bootstrap': [True],\n",
    "    'n_estimators':n_estimators,\n",
    "    'max_depth':[4,6,8,10,12],\n",
    "    'min_samples_leaf': [2, 3, 4, 5],\n",
    "    'min_samples_split': [2, 4, 6, 8, 10],\n",
    "    'max_features':[4]\n",
    "}"
   ]
  },
  {
   "cell_type": "code",
   "execution_count": 68,
   "metadata": {},
   "outputs": [],
   "source": [
    "# 교차 검증 방법으로 TimeSeriesSplit()을 사용.\n",
    "my_cv = TimeSeriesSplit(n_splits=5).split(X_train)"
   ]
  },
  {
   "cell_type": "code",
   "execution_count": 69,
   "metadata": {},
   "outputs": [],
   "source": [
    "clf = GridSearchCV(RandomForestClassifier(), params, cv=my_cv, n_jobs=-1)"
   ]
  },
  {
   "cell_type": "code",
   "execution_count": 70,
   "metadata": {},
   "outputs": [
    {
     "name": "stdout",
     "output_type": "stream",
     "text": [
      "973.8514170646667  seconds consumed\n"
     ]
    }
   ],
   "source": [
    "start_time = time.time()\n",
    "clf.fit(X_train, y_train)\n",
    "print(time.time() - start_time,\" seconds consumed\")"
   ]
  },
  {
   "cell_type": "code",
   "execution_count": 71,
   "metadata": {},
   "outputs": [
    {
     "name": "stdout",
     "output_type": "stream",
     "text": [
      "best parameter:\n",
      " {'bootstrap': True, 'max_depth': 4, 'max_features': 4, 'min_samples_leaf': 2, 'min_samples_split': 6, 'n_estimators': 40}\n",
      "best prediction:0.5358\n"
     ]
    }
   ],
   "source": [
    "## Random Forest에서 best param\n",
    "print('best parameter:\\n', clf.best_params_)\n",
    "print('best prediction:{0:.4f}'.format(clf.best_score_))"
   ]
  },
  {
   "cell_type": "code",
   "execution_count": 72,
   "metadata": {},
   "outputs": [
    {
     "name": "stdout",
     "output_type": "stream",
     "text": [
      "accuracy:0.5367\n",
      "confusion matrix\n",
      "accuracy:0.5367,precision:0.5269,recall:0.5269,F1:0.5269,ROC AUC score:0.5337\n"
     ]
    }
   ],
   "source": [
    "pred_con = clf.predict(X_test)\n",
    "accuracy_con = accuracy_score(y_test, pred_con)\n",
    "print('accuracy:{0:.4f}'.format(accuracy_con))\n",
    "get_confusion_matrix(y_test, pred_con)"
   ]
  },
  {
   "cell_type": "markdown",
   "metadata": {},
   "source": [
    "### 트리 계열 머신러닝 알고리즘 모델링에 도움될 하이퍼파라미터 설정법\n",
    "\n",
    "- 학습률 learning_rate(LightGBM) / eta(XGboost)\n",
    "\n",
    "    0~1의 값을 지정해 부스팅 스텝을 반복적으로 수행할 때 업데이트되는 학습률 값. 이전 트리의 오차를 얼마나 강하게 보정할 것인지를 제어. 일반적으로 0.01~0.02 값 사용\n",
    "\n",
    "- 트리수 num_iterations(파이썬 래퍼 LightGBM) / n_estimators (XGboost, Random Forest)\n",
    "\n",
    "    반복 수행하려는 트리의 개수를 지정. 트리가 많아질수록 성능이 좋아지지만 과적합의 위험도 올라감. LightGBM에서 디폴트 값으로 100이 설정됨. 큰 값으로 재설정. 랜덤 포레스트에서의 디폴트 값은 10\n",
    "\n",
    "- 트리 깊이 max_depth(LightGBM, Xgboost, Random Frest)\n",
    "\n",
    "    트리의 최대 깊이. 티폴트는 Xgboost에서 6이고 LightGBM에서는 -1로 깊이에 제한 없으나 너무 크면 과적합. 보통 3~10의 값 사용. 변수가 많을 경우 높게 설정. (얕은 트리는 분산은 작지만 편향이 많고, 깊은 트리는 편향은 적지만 분산이 크다.)\n",
    "\n",
    "- 조기 종료 early stopping rounds(파이썬 래퍼 LightGMB에서는 early stopping round)\n",
    "\n",
    "    검증 정확도가 더 이상 올라가지 않으 때, 지정된 학습 횟수 이전에 종료시키는 방법. 검증셋이 없다면 지정하지 않아도 됨.\n",
    "\n",
    "- 서브 샘플링 bagging fraction (파이썬 래퍼 LightGBM) / subsample(Xgboost)\n",
    "\n",
    "    일부 데이터만을 사용하는 bagging의 비율. 과적합을 제어하기 위한 수단. 0.5로 지정하면 절체 데이터의 절반을 트리 생성하는데 사용. 일반적으로 0.5~1의 값 사용.\n",
    "\n",
    "- 변수 샘플링 feature fraction(파이썬 래퍼 LightGBM) / colsample_bytree(Xgboost)\n",
    "\n",
    "    트리 생성에 필요한 변수(컬럼)를 샘플링 하는데 사용. 변수가 너무 많을 경우 과적합을 줄이는 방법으로 사용. 디폴트 값인 1로 설정하면 변수 샘플링은 하지 않음. 설정한다면 보통 0.7~0.9의 값 사용.\n",
    "\n",
    "- 가중치 조절 min_sum_hessian_in_leaf(파이썬 래퍼 LightGBM) / min_child_weight\n",
    "\n",
    "    과적합을 조절하는데 사용. 높은 값은 특정 샘플에 높은 의존도를 가지는 모델이 되는 것을 방지. 너무 높은 값을 설정하면 과소적합.\n",
    "\n",
    "- 최대 리프 수 num_leaves(LightGBM)\n",
    "\n",
    "    개별 트리가 가질 수 있는 최대 리프 수. LightGBM 모델의 복잡도를 제어하는 주요 파라미터. 트리가 매우 깊을 경우 num_leaves를 조정하면 효과.\n",
    "\n",
    "- 감마 gamma(Xgboost)\n",
    "\n",
    "    분할을 수행하는 데 필요한 최소 손실 감소를 지정. 값이 클수록 과적합 감소 효과"
   ]
  },
  {
   "cell_type": "markdown",
   "metadata": {},
   "source": [
    "### 확장\n",
    "\n",
    "1. 다중 분류 문제로 바꿔보기 ex) 상승과 하락 뿐 아니라, 보합, 3% 이상 상승 및 하락, 등\n",
    "\n",
    "2. 트리기반 모델 뿐 아니라 SVM, 로지스틱 등 여러 알고리즘 써보기. 스케일에 민감한 알고리즘을 사용한다면 스케일 조정이 필요.\n",
    "\n",
    "3. 변수를 바꿔보기\n",
    "\n",
    "4. 예측하려는 종목/자산 바꿔보기. S&P 500이 아니라 변동성이 심한 USO지수에 대한 예측력이 좋을 수 있음.\n",
    "\n",
    "5. 노이즈 제거 방법 사용."
   ]
  }
 ],
 "metadata": {
  "kernelspec": {
   "display_name": "Python 3",
   "language": "python",
   "name": "python3"
  },
  "language_info": {
   "codemirror_mode": {
    "name": "ipython",
    "version": 3
   },
   "file_extension": ".py",
   "mimetype": "text/x-python",
   "name": "python",
   "nbconvert_exporter": "python",
   "pygments_lexer": "ipython3",
   "version": "3.11.6"
  }
 },
 "nbformat": 4,
 "nbformat_minor": 2
}
